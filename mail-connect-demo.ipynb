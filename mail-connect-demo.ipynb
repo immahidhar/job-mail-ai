{
 "cells": [
  {
   "cell_type": "code",
   "execution_count": 4,
   "metadata": {},
   "outputs": [
    {
     "name": "stdout",
     "output_type": "stream",
     "text": [
      "using exisiting token\n",
      "token expired - authentication required\n"
     ]
    }
   ],
   "source": [
    "# Directly accessing gmail api\n",
    "\n",
    "import os.path\n",
    "\n",
    "# !pip3 install --upgrade google-api-python-client google-auth-httplib2 google-auth-oauthlib\n",
    "from google.auth.transport.requests import Request\n",
    "from google.oauth2.credentials import Credentials\n",
    "from google_auth_oauthlib.flow import InstalledAppFlow\n",
    "from googleapiclient.discovery import build\n",
    "from googleapiclient.errors import HttpError\n",
    "\n",
    "# If modifying these scopes, delete the file token.json.\n",
    "SCOPES = [\"https://www.googleapis.com/auth/gmail.readonly\"]\n",
    "\n",
    "def gmail_authenticate():\n",
    "    creds = None\n",
    "    # The file token.json stores the user's access and refresh tokens, and is created\n",
    "    # automatically when the authorization flow completes for the first time.\n",
    "    if os.path.exists(\"token.json\"):\n",
    "        print('using exisiting token')\n",
    "        creds = Credentials.from_authorized_user_file(\"token.json\", SCOPES)\n",
    "    # If there are no (valid) credentials available, let the user log in.\n",
    "    if not creds or not creds.valid:\n",
    "        if creds and creds.expired and creds.refresh_token:\n",
    "            print(\"token expired - authentication required\")\n",
    "            creds.refresh(Request())\n",
    "        else:\n",
    "            print(\"authentication required\")\n",
    "            flow = InstalledAppFlow.from_client_secrets_file(\n",
    "                \"credentials.json\", SCOPES\n",
    "            )\n",
    "            creds = flow.run_local_server(port=0)\n",
    "        # Save the credentials for the next run\n",
    "        with open(\"token.json\", \"w\") as token:\n",
    "            token.write(creds.to_json())\n",
    "    # return the gmail service\n",
    "    return build(\"gmail\", \"v1\", credentials=creds)\n",
    "\n",
    "# get the Gmail API service\n",
    "service = gmail_authenticate()\n",
    "\n",
    "def get_messages(query):\n",
    "    try:\n",
    "        # Call the Gmail API\n",
    "        result = service.users().messages().list(userId='me',q=query).execute()\n",
    "        messages = [ ]\n",
    "        if 'messages' in result:\n",
    "            messages.extend(result['messages'])\n",
    "        while 'nextPageToken' in result:\n",
    "            page_token = result['nextPageToken']\n",
    "            result = service.users().messages().list(userId='me',q=query, pageToken=page_token).execute()\n",
    "            if 'messages' in result:\n",
    "                messages.extend(result['messages'])\n",
    "        return messages\n",
    "\n",
    "    except HttpError as error:\n",
    "        # TODO(developer) - Handle errors from gmail API.\n",
    "        print(f\"An error occurred: {error}\")\n",
    "\n",
    "# all messages\n",
    "messages = get_messages(query='')"
   ]
  },
  {
   "cell_type": "code",
   "execution_count": 1,
   "metadata": {},
   "outputs": [
    {
     "name": "stdout",
     "output_type": "stream",
     "text": [
      "\n",
      "Your browser has been opened to visit:\n",
      "\n",
      "    https://accounts.google.com/o/oauth2/auth?client_id=395092168133-6pck9snola6m5gqtp8mt8ciau26fdncp.apps.googleusercontent.com&redirect_uri=http%3A%2F%2Flocalhost%3A8080%2F&scope=https%3A%2F%2Fwww.googleapis.com%2Fauth%2Fgmail.modify+https%3A%2F%2Fwww.googleapis.com%2Fauth%2Fgmail.settings.basic&access_type=offline&response_type=code&prompt=consent\n",
      "\n",
      "If your browser is on a different machine then exit and re-run this\n",
      "application with the command-line parameter\n",
      "\n",
      "  --noauth_local_webserver\n",
      "\n",
      "Authentication successful.\n",
      "From: Google Maps Timeline <noreply-maps-timeline@google.com>\n",
      "Date: 2024-08-21 01:35:11-04:00\n",
      "\tSubject: 🌎 A new device is saving visits in Timeline\n",
      "From: Jennifer Leale <jleale@fsu.edu>\n",
      "Date: 2024-08-09 09:16:54-04:00\n",
      "\tSubject: Interview for the Application Developer/Designer Position\n",
      "From: Google <google-noreply@google.com>\n",
      "Date: 2024-07-28 11:52:25-04:00\n",
      "\tSubject: Your Gmail storage is 82% full\n"
     ]
    }
   ],
   "source": [
    "# Using simplegmail abstraction\n",
    "\n",
    "# !pip3 install simplegmail\n",
    "from simplegmail import Gmail\n",
    "\n",
    "gmail = Gmail()\n",
    "\n",
    "# list lables\n",
    "gmail.list_labels()\n",
    "\n",
    "# Unread messages in your inbox\n",
    "# messages = gmail.get_unread_inbox()\n",
    "\n",
    "# Starred messages\n",
    "messages = gmail.get_starred_messages()\n",
    "\n",
    "# ...and many more easy to use functions can be found in gmail.py!\n",
    "\n",
    "# Print them out!\n",
    "for message in messages:\n",
    "    # print(\"To: \" + message.recipient)\n",
    "    print(\"From: \" + message.sender)\n",
    "    print(\"Date: \" + message.date)\n",
    "    print(\"\\tSubject: \" + message.subject)\n",
    "    # print(\"Preview: \" + message.snippet)\n",
    "    \n",
    "    # print(\"Message Body: \" + message.plain)  # or message.html"
   ]
  },
  {
   "cell_type": "code",
   "execution_count": 24,
   "metadata": {},
   "outputs": [],
   "source": [
    "# Get mails with query\n",
    "from simplegmail import query\n",
    "\n",
    "messages = gmail.get_messages(query=query.construct_query(newer_than=(11, \"day\"), labels=[[\"INBOX\"]]))"
   ]
  },
  {
   "cell_type": "code",
   "execution_count": null,
   "metadata": {},
   "outputs": [],
   "source": [
    "print(f'size={len(messages)}')\n",
    "for message in messages:\n",
    "    print(f'{message}, {message.date}')\n",
    "    print(f'\\t{message.subject}')\n",
    "    print(f'\\t{message.snippet}')\n",
    "    # print(message.plain)"
   ]
  },
  {
   "cell_type": "code",
   "execution_count": null,
   "metadata": {},
   "outputs": [],
   "source": [
    "message = service.users().messages().get(\n",
    "                userId='me', id='1913749036c02855'\n",
    "            ).execute()\n",
    "message"
   ]
  }
 ],
 "metadata": {
  "kernelspec": {
   "display_name": "Python 3",
   "language": "python",
   "name": "python3"
  },
  "language_info": {
   "codemirror_mode": {
    "name": "ipython",
    "version": 3
   },
   "file_extension": ".py",
   "mimetype": "text/x-python",
   "name": "python",
   "nbconvert_exporter": "python",
   "pygments_lexer": "ipython3",
   "version": "3.12.4"
  }
 },
 "nbformat": 4,
 "nbformat_minor": 2
}
