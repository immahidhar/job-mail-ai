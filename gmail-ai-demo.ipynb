{
 "cells": [
  {
   "cell_type": "code",
   "execution_count": 19,
   "metadata": {},
   "outputs": [
    {
     "name": "stderr",
     "output_type": "stream",
     "text": [
      "Matplotlib is building the font cache; this may take a moment.\n"
     ]
    }
   ],
   "source": [
    "# Using simplegmail abstraction instead of writing gmail logic from scratch\n",
    "# https://github.com/jeremyephron/simplegmail\n",
    "from simplegmail import Gmail, query\n",
    "# langchain\n",
    "from langchain_community.llms import Ollama\n",
    "from langchain import PromptTemplate\n",
    "import pandas as pd\n",
    "import matplotlib.pyplot as plt\n",
    "import numpy as np"
   ]
  },
  {
   "cell_type": "code",
   "execution_count": 30,
   "metadata": {},
   "outputs": [],
   "source": [
    "# Get gmail service - check https://github.com/jeremyephron/simplegmail\n",
    "# may need to authenticate - keep credentials ready\n",
    "gmail = Gmail()"
   ]
  },
  {
   "cell_type": "code",
   "execution_count": 29,
   "metadata": {},
   "outputs": [],
   "source": [
    "# Ollama has to be running seperately with the model specified pulled and ready\n",
    "llm = Ollama(model=\"llama3.1:latest\", stop=[\"<|eot_id|>\"]) # Added stop token"
   ]
  },
  {
   "cell_type": "code",
   "execution_count": 4,
   "metadata": {},
   "outputs": [],
   "source": [
    "def get_model_response(user_prompt, system_prompt):\n",
    "    # NOTE: No f string and no whitespace in curly braces\n",
    "    template = \"\"\"\n",
    "        <|begin_of_text|>\n",
    "        <|start_header_id|>system<|end_header_id|>\n",
    "        {system_prompt}\n",
    "        <|eot_id|>\n",
    "        <|start_header_id|>user<|end_header_id|>\n",
    "        {user_prompt}\n",
    "        <|eot_id|>\n",
    "        <|start_header_id|>assistant<|end_header_id|>\n",
    "        \"\"\"\n",
    "\n",
    "    # Added prompt template\n",
    "    prompt = PromptTemplate(\n",
    "        input_variables=[\"system_prompt\", \"user_prompt\"],\n",
    "        template=template\n",
    "    )\n",
    "    \n",
    "    # invoking the model\n",
    "    response = llm.invoke(prompt.format(system_prompt=system_prompt, user_prompt=user_prompt))\n",
    "    \n",
    "    return response"
   ]
  },
  {
   "cell_type": "code",
   "execution_count": 5,
   "metadata": {},
   "outputs": [],
   "source": [
    "# Get mails from past _ units\n",
    "numberOf = 1\n",
    "messages = gmail.get_messages(query=query.construct_query(newer_than=(numberOf, \"day\"), labels=[[\"INBOX\"]]))"
   ]
  },
  {
   "cell_type": "code",
   "execution_count": 6,
   "metadata": {},
   "outputs": [],
   "source": [
    "from bs4 import BeautifulSoup\n",
    "\n",
    "def get_text_from_html(html: str):\n",
    "    \"\"\" extract plain text from html \"\"\"\n",
    "    soup = BeautifulSoup(html, features=\"html.parser\")\n",
    "    # kill all script and style elements\n",
    "    for script in soup([\"script\", \"style\"]):\n",
    "        script.extract()    # rip it out\n",
    "    # get text\n",
    "    return soup.body.get_text(separator='\\n', strip=True)"
   ]
  },
  {
   "cell_type": "code",
   "execution_count": null,
   "metadata": {},
   "outputs": [],
   "source": [
    "froms = [message.sender for message in messages]\n",
    "ids = [message.id for message in messages]\n",
    "dates = [message.date for message in messages]\n",
    "subjects = [message.subject for message in messages]\n",
    "bodies = []\n",
    "print(f'Total messages: {len(messages)}')\n",
    "for message in messages:\n",
    "    print(f\"\"\"--- from: {message.sender} date:{message.date} ---\n",
    "        subject: {message.subject}\"\"\")\n",
    "    content = message.plain if message.plain else get_text_from_html(message.html) if message.html else 'No content - answer N/A'\n",
    "    bodies.append(content)\n",
    "df = pd.DataFrame({\n",
    "    'id':ids,\n",
    "    'date':dates,\n",
    "    'from':froms,\n",
    "    'subject':subjects,\n",
    "    'body':bodies\n",
    "})\n",
    "total = len(df.index)\n",
    "df['result'] = ['-'] * total"
   ]
  },
  {
   "cell_type": "code",
   "execution_count": 32,
   "metadata": {},
   "outputs": [],
   "source": [
    "system_mail_prompt = \"\"\"You are an expert email assistant wizard. You are given the body of an email I recieved. Provide a simple Yes or No answer to the question - \\\"Is this email I recieved regarding a SOFTWARE JOB APPLICATION that I applied for?\\\" \n",
    "Think step by step. Look for job related infromation like job title, company name etc. Then decide your answer. You don\\'t have to provide a long answer. Just a simple \\\"Yes\\\" or \\\"No\\\".\n",
    "Check the answer you generated. If it is not a \\\"Yes\\\" or \\\"No\\\", think whether this is \\\"Yes\\\" or \\\"No\\\".\"\"\"\n",
    "# user_mail_prompt = \"\"\"\"\"\""
   ]
  },
  {
   "cell_type": "code",
   "execution_count": null,
   "metadata": {},
   "outputs": [],
   "source": [
    "print(f'Total messages: {len(df.index)}')\n",
    "for row in df.itertuples():\n",
    "    if row[6].lower() in ['yes', 'yes.', 'no', 'no.']:\n",
    "        continue\n",
    "    glance = f\"\"\"from:{row[3]}, date:{row[2]}\n",
    "    subject:{row[4]}\n",
    "    \"\"\"\n",
    "    print(glance)\n",
    "    content = glance + row[5]\n",
    "    result = get_model_response(user_prompt=content, system_prompt=system_mail_prompt)\n",
    "    df.at[row.Index, 'result'] = result\n",
    "df"
   ]
  },
  {
   "cell_type": "code",
   "execution_count": 42,
   "metadata": {},
   "outputs": [
    {
     "name": "stdout",
     "output_type": "stream",
     "text": [
      "yes=24\n",
      "no=11\n",
      "neither=3\n"
     ]
    }
   ],
   "source": [
    "yes = len(df[df['result'] == 'Yes']) + len(df[df['result'] == 'Yes.'])\n",
    "no = len(df[df['result'] == 'No']) + len(df[df['result'] == 'No.'])\n",
    "neither = total - (yes + no)\n",
    "print(f'{yes=}\\n{no=}\\n{neither=}')"
   ]
  },
  {
   "cell_type": "code",
   "execution_count": 43,
   "metadata": {},
   "outputs": [
    {
     "data": {
      "image/png": "[encoded data removed]",
      "text/plain": [
       "<Figure size 640x480 with 1 Axes>"
      ]
     },
     "metadata": {},
     "output_type": "display_data"
    }
   ],
   "source": [
    "y = np.array([yes, no, neither])\n",
    "lables = [f'Job related: {yes}', f'Unrelated: {no}', f'Undecided: {neither}']\n",
    "explode = [0.2, 0, 0]\n",
    "plt.pie(y, autopct='%1.0f%%', labels=lables, explode=explode)\n",
    "plt.legend(title=f'Total mails: {total}')\n",
    "plt.show() "
   ]
  }
 ],
 "metadata": {
  "kernelspec": {
   "display_name": ".venv",
   "language": "python",
   "name": "python3"
  },
  "language_info": {
   "codemirror_mode": {
    "name": "ipython",
    "version": 3
   },
   "file_extension": ".py",
   "mimetype": "text/x-python",
   "name": "python",
   "nbconvert_exporter": "python",
   "pygments_lexer": "ipython3",
   "version": "3.12.4"
  }
 },
 "nbformat": 4,
 "nbformat_minor": 2
}
