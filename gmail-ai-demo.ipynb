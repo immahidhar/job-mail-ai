{
 "cells": [
  {
   "cell_type": "code",
   "execution_count": 92,
   "metadata": {},
   "outputs": [],
   "source": [
    "# Using simplegmail abstraction instead of writing gmail logic from scratch\n",
    "# https://github.com/jeremyephron/simplegmail\n",
    "from simplegmail import Gmail, query\n",
    "# ollama\n",
    "import ollama\n"
   ]
  },
  {
   "cell_type": "code",
   "execution_count": 72,
   "metadata": {},
   "outputs": [],
   "source": [
    "# Get gmail service - may need to authenticate - check https://github.com/jeremyephron/simplegmail\n",
    "gmail = Gmail()"
   ]
  },
  {
   "cell_type": "code",
   "execution_count": 40,
   "metadata": {},
   "outputs": [],
   "source": [
    "# Get mails from past _ units\n",
    "numberOf = 10\n",
    "messages = gmail.get_messages(query=query.construct_query(newer_than=(numberOf, \"hour\"), labels=[[\"INBOX\"]]))"
   ]
  },
  {
   "cell_type": "code",
   "execution_count": 99,
   "metadata": {},
   "outputs": [
    {
     "name": "stdout",
     "output_type": "stream",
     "text": [
      "Total messages: 8\n",
      "from: <Recruiting@tranetechnologies.com> date:2024-08-15 19:43:11-04:00\n",
      "        subject: Trane Technologies Candidate Experience Survey\n",
      "No\n",
      "from: Platform Notifications <PlatformNotifications-noreply@google.com> date:2024-08-15 18:04:00-04:00\n",
      "        subject: Your project gmail-api-432621 has been shut down\n",
      "No.\n",
      "from: Sydney Christensen <Sydney.Christensen@mondo.com> date:2024-08-15 17:45:59-04:00\n",
      "        subject: Digital Content Producer - Remote - Contract Opportunity!!\n",
      "No.\n",
      "from: Bhanu Singh <bhanupriya@ibridgetechsoft.com> date:2024-08-15 15:29:47-04:00\n",
      "        subject: Python Developer with NodeJs\n",
      "No.\n",
      "from: \"People, Culture and Belonging: People Experience\" <human.resources@message.vu.edu> date:2024-08-15 13:41:04-04:00\n",
      "        subject: Talent Acquisition Satisfaction Survey\n",
      "No.\n",
      "from: Bhanu Singh <bhanupriya@ibridgetechsoft.com> date:2024-08-15 11:04:08-04:00\n",
      "        subject: Java developer (Healthcare domain)\n",
      "No.\n",
      "from: Trane Technologies Careers <tranetechnologiescareers_noreply@tranetechnologies.com> date:2024-08-15 10:20:48-04:00\n",
      "        subject: Status of your application with Trane Technologies\n",
      "No\n",
      "from: hr-recruiting@enfusion.com date:2024-08-15 09:46:16-04:00\n",
      "        subject: Update from Enfusion on your application\n",
      "No.\n"
     ]
    }
   ],
   "source": [
    "print(f'Total messages: {len(messages)}')\n",
    "for message in messages:\n",
    "    print(f\"\"\"from: {message.sender} date:{message.date}\n",
    "        subject: {message.subject}\"\"\")\n",
    "    result = ollama.generate(model='llama3.1', prompt=f\"\"\"Here is mail I received:\n",
    "                             {message.plain}\n",
    "                             Give a simple Yes or No answer to the question - Do you think the following mail I recieved is regarding a job application? \"\"\")\n",
    "    print(result['response'])\n",
    "    "
   ]
  }
 ],
 "metadata": {
  "kernelspec": {
   "display_name": ".venv",
   "language": "python",
   "name": "python3"
  },
  "language_info": {
   "codemirror_mode": {
    "name": "ipython",
    "version": 3
   },
   "file_extension": ".py",
   "mimetype": "text/x-python",
   "name": "python",
   "nbconvert_exporter": "python",
   "pygments_lexer": "ipython3",
   "version": "3.12.4"
  }
 },
 "nbformat": 4,
 "nbformat_minor": 2
}
