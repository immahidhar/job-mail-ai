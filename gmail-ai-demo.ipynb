{
 "cells": [
  {
   "cell_type": "code",
   "execution_count": 117,
   "metadata": {},
   "outputs": [],
   "source": [
    "# Using simplegmail abstraction instead of writing gmail logic from scratch\n",
    "# https://github.com/jeremyephron/simplegmail\n",
    "from simplegmail import Gmail, query\n",
    "# ollama\n",
    "import ollama\n",
    "# langchain\n",
    "from langchain_community.llms import Ollama\n",
    "from langchain import PromptTemplate\n"
   ]
  },
  {
   "cell_type": "code",
   "execution_count": 107,
   "metadata": {},
   "outputs": [],
   "source": [
    "# Get gmail service - may need to authenticate - check https://github.com/jeremyephron/simplegmail\n",
    "gmail = Gmail()"
   ]
  },
  {
   "cell_type": "code",
   "execution_count": 124,
   "metadata": {},
   "outputs": [],
   "source": [
    "llm = Ollama(model=\"llama3.1\", stop=[\"<|eot_id|>\"]) # Added stop token"
   ]
  },
  {
   "cell_type": "code",
   "execution_count": 125,
   "metadata": {},
   "outputs": [],
   "source": [
    "def get_model_response(user_prompt, system_prompt):\n",
    "    # NOTE: No f string and no whitespace in curly braces\n",
    "    template = \"\"\"\n",
    "        <|begin_of_text|>\n",
    "        <|start_header_id|>system<|end_header_id|>\n",
    "        {system_prompt}\n",
    "        <|eot_id|>\n",
    "        <|start_header_id|>user<|end_header_id|>\n",
    "        {user_prompt}\n",
    "        <|eot_id|>\n",
    "        <|start_header_id|>assistant<|end_header_id|>\n",
    "        \"\"\"\n",
    "\n",
    "    # Added prompt template\n",
    "    prompt = PromptTemplate(\n",
    "        input_variables=[\"system_prompt\", \"user_prompt\"],\n",
    "        template=template\n",
    "    )\n",
    "    \n",
    "    # invoking the model\n",
    "    response = llm(prompt.format(system_prompt=system_prompt, user_prompt=user_prompt))\n",
    "    \n",
    "    return response"
   ]
  },
  {
   "cell_type": "code",
   "execution_count": 110,
   "metadata": {},
   "outputs": [],
   "source": [
    "# Get mails from past _ units\n",
    "numberOf = 10\n",
    "messages = gmail.get_messages(query=query.construct_query(newer_than=(numberOf, \"hour\"), labels=[[\"INBOX\"]]))"
   ]
  },
  {
   "cell_type": "code",
   "execution_count": null,
   "metadata": {},
   "outputs": [],
   "source": [
    "print(f'Total messages: {len(messages)}')\n",
    "for message in messages:\n",
    "    print(f\"\"\"\\n --- from: {message.sender} date:{message.date} ---\n",
    "        subject: {message.subject}\"\"\")\n",
    "    print(message.html)"
   ]
  },
  {
   "cell_type": "code",
   "execution_count": 135,
   "metadata": {},
   "outputs": [],
   "source": [
    "user_mail_prompt = 'Give a simple Yes or No answer to the question - Do you think the mail I recieved is regarding a SOFTWARE JOB APPLICATION?'"
   ]
  },
  {
   "cell_type": "code",
   "execution_count": 136,
   "metadata": {},
   "outputs": [
    {
     "name": "stdout",
     "output_type": "stream",
     "text": [
      "Total messages: 6\n",
      "from: Skydive Space Center <skydivesc@outlook.com> date:2024-08-16 13:21:31-04:00\n",
      "        subject: Re: Skydive appointment reminder - Response required.\n",
      " --- result='Yes.' ---\n",
      "from: 0pk-239-e0n@user.dice.com date:2024-08-16 12:28:31-04:00\n",
      "        subject: Full time onsite role || PL/SQL Developer || Juno Beach FL (Onsite)\n",
      " --- result='No' ---\n",
      "from: Skydive Space Center <skydivesc@outlook.com> date:2024-08-16 12:17:19-04:00\n",
      "        subject: Skydive appointment reminder - Response required.\n",
      " --- result='No.' ---\n",
      "from: People First <system@successfactors.com> date:2024-08-16 12:05:27-04:00\n",
      "        subject: Thank You for Your Interest in Job GOVERNMENT OPERATIONS CONSULTANT III - 65000491\n",
      " --- result='No' ---\n",
      "from: Starbucks Rewards <Starbucks@e.starbucks.com> date:2024-08-16 09:08:32-04:00\n",
      "        subject: Open on your birthday 🎁 (Actually, you can open now)\n",
      " --- result='No.' ---\n",
      "from: Conservice <ebill@ebill.conservicemail.com> date:2024-08-16 08:14:37-04:00\n",
      "        subject: Monthly Conservice Statement for Renew Tallahassee\n",
      " --- result='No.' ---\n"
     ]
    }
   ],
   "source": [
    "print(f'Total messages: {len(messages)}')\n",
    "for message in messages:\n",
    "    print(f\"\"\"from: {message.sender} date:{message.date}\n",
    "        subject: {message.subject}\"\"\")\n",
    "    result = get_model_response(user_prompt=user_mail_prompt, system_prompt=message.subject+message.html)\n",
    "    print(f' --- {result=} ---')\n",
    "    # break\n",
    "    "
   ]
  }
 ],
 "metadata": {
  "kernelspec": {
   "display_name": ".venv",
   "language": "python",
   "name": "python3"
  },
  "language_info": {
   "codemirror_mode": {
    "name": "ipython",
    "version": 3
   },
   "file_extension": ".py",
   "mimetype": "text/x-python",
   "name": "python",
   "nbconvert_exporter": "python",
   "pygments_lexer": "ipython3",
   "version": "3.12.4"
  }
 },
 "nbformat": 4,
 "nbformat_minor": 2
}
